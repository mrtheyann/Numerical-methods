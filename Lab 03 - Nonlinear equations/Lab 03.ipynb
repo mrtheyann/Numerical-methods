{
 "metadata": {
  "name": "Lab 03"
 },
 "nbformat": 3,
 "nbformat_minor": 0,
 "worksheets": [
  {
   "cells": [
    {
     "cell_type": "markdown",
     "metadata": {},
     "source": "# \u0417\u0430\u0434\u0430\u0447\u0430 1"
    },
    {
     "cell_type": "markdown",
     "metadata": {},
     "source": "\u0412\u0430\u0440\u0438\u0430\u043d\u0442 13\n\n`x lg x - 1,2 = 0`"
    },
    {
     "cell_type": "code",
     "collapsed": false,
     "input": "from numpy import *\nimport matplotlib.pyplot as plt\nfrom math import log10\n%matplotlib inline",
     "language": "python",
     "metadata": {},
     "outputs": [],
     "prompt_number": 1
    },
    {
     "cell_type": "code",
     "collapsed": false,
     "input": "f = lambda x: (x * log10(x) - 1.2)\ndf = lambda x: ()",
     "language": "python",
     "metadata": {},
     "outputs": [],
     "prompt_number": "*"
    },
    {
     "cell_type": "code",
     "collapsed": false,
     "input": "def newton(f, x, n=10, eps=0.0001):\n    #x = x0\n    print('{:^15}{:^15}{:^15}{:^15}{:^15}'.format('i', 'x', 'f(x)', 'df(x)', 'f(x) / df(x)'))\n    for i in range(n):\n        print('{:^15}{:^15f}{:^15f}{:^15f}{:^15f}'.format(i, x, f(x), df(x), f(x) / df(x)))\n        x_last = x\n        x = x - f(x) / df(x)\n        if abs(x - x_last) < eps:\n            break\n\n    print('f(x)=', f(x))\n    return x",
     "language": "python",
     "metadata": {},
     "outputs": []
    }
   ],
   "metadata": {}
  }
 ]
}