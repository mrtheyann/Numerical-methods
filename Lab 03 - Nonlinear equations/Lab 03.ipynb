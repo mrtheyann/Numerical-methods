{
 "metadata": {
  "name": "Lab 03"
 },
 "nbformat": 3,
 "nbformat_minor": 0,
 "worksheets": [
  {
   "cells": [
    {
     "cell_type": "markdown",
     "metadata": {},
     "source": "# \u0417\u0430\u0434\u0430\u0447\u0430 1"
    },
    {
     "cell_type": "markdown",
     "metadata": {},
     "source": "\u0412\u0430\u0440\u0438\u0430\u043d\u0442 13\n\n`x * lg(x) - 1,2 = 0`"
    },
    {
     "cell_type": "code",
     "collapsed": false,
     "input": "from numpy import *\nimport matplotlib.pyplot as plt\n%matplotlib inline",
     "language": "python",
     "metadata": {},
     "outputs": [],
     "prompt_number": 1
    },
    {
     "cell_type": "code",
     "collapsed": false,
     "input": "f = lambda x: (x * log10(x) - 1.2)\ndf = lambda x: (log(x) + 1)\n\nx=linspace(1, 10, 100)",
     "language": "python",
     "metadata": {},
     "outputs": [],
     "prompt_number": 2
    },
    {
     "cell_type": "code",
     "collapsed": false,
     "input": "plt.figure(figsize=(7,7))\nplt.grid(True)\nplt.plot (x, f(x))\nplt.plot (x, zeros(x.size))",
     "language": "python",
     "metadata": {},
     "outputs": [],
     "prompt_number": 3
    },
    {
     "cell_type": "code",
     "collapsed": false,
     "input": "def printer(func):\n    def wrapper(f, x, *args):\n        print(tab)\n        data = func(f, x, *args)\n        for i in data:\n            print(tab_raw.format(*i))\n        print('\\n', 'f(x)=', i[2], '\\n\\n', 'x = ', i[1])\n\n    return wrapper",
     "language": "python",
     "metadata": {},
     "outputs": [],
     "prompt_number": 4
    },
    {
     "cell_type": "code",
     "collapsed": false,
     "input": "tab = '{:^15}{:^15}{:^15}{:^15}{:^15}'.format('i', 'x', 'f(x)', 'df(x)', 'f(x) / df(x)')\ntab_raw = '{:^15}{:^15f}{:^15f}{:^15f}{:^15f}'\n\n\n@printer\ndef newton(f, x, n=10, eps=0.0001):\n    data = []\n\n    for i in range(n):\n        \n        x_last = x\n        x = x - f(x) / df(x)\n        \n        data.append([i, x, f(x), df(x), f(x) / df(x)])\n        \n        if abs(x - x_last) < eps:\n            break\n\n    return data",
     "language": "python",
     "metadata": {},
     "outputs": [],
     "prompt_number": 5
    },
    {
     "cell_type": "code",
     "collapsed": false,
     "input": "newton(f, 1)",
     "language": "python",
     "metadata": {},
     "outputs": [],
     "prompt_number": 6
    },
    {
     "cell_type": "code",
     "collapsed": false,
     "input": "newton(f,2)",
     "language": "python",
     "metadata": {},
     "outputs": [],
     "prompt_number": 7
    },
    {
     "cell_type": "code",
     "collapsed": false,
     "input": "newton(f,5)",
     "language": "python",
     "metadata": {},
     "outputs": [],
     "prompt_number": 8
    },
    {
     "cell_type": "code",
     "collapsed": false,
     "input": "newton(f,10)",
     "language": "python",
     "metadata": {},
     "outputs": [],
     "prompt_number": 9
    },
    {
     "cell_type": "heading",
     "level": 1,
     "metadata": {},
     "source": "\u0417\u0430\u0434\u0430\u0447\u0430 2"
    },
    {
     "cell_type": "markdown",
     "metadata": {},
     "source": "\u0412\u0430\u0440\u0438\u0430\u043d\u0442 13\n\n`5 * x - 8 * ln(x) = 8`"
    },
    {
     "cell_type": "code",
     "collapsed": false,
     "input": "from numpy import *\nimport matplotlib.pyplot as plt\n%matplotlib inline",
     "language": "python",
     "metadata": {},
     "outputs": [],
     "prompt_number": 10
    },
    {
     "cell_type": "code",
     "collapsed": false,
     "input": "f = lambda x: (5 * x - 8 * log(x) - 8)\ndf = lambda x: (5 - 8 / x)\n\nx = linspace(1, 10, 100)\n\nplt.figure(figsize=(7,7))\nplt.grid(True)\nplt.plot (x, f(x))\nplt.plot (x, zeros(x.size))",
     "language": "python",
     "metadata": {},
     "outputs": [
      {
       "metadata": {},
       "output_type": "pyout",
       "prompt_number": 11,
       "text": "[<matplotlib.lines.Line2D at 0x7f8f0fc800b8>]"
      },
      {
       "metadata": {},
       "output_type": "display_data",
       "png": "[encoded data removed]",
       "text": "<matplotlib.figure.Figure at 0x7f8f0f9c4860>"
      }
     ],
     "prompt_number": 11
    },
    {
     "cell_type": "code",
     "collapsed": false,
     "input": "def printer(func):\n    def wrapper(f, x, lambd, *args):\n        print(tab)\n        data = func(f, x, lambd, *args)\n        for i in data:\n            print(tab_raw.format(*i))\n        print('\\n', 'f(x)=', i[2], '\\n\\n', 'x = ', i[1])\n\n    return wrapper",
     "language": "python",
     "metadata": {},
     "outputs": [],
     "prompt_number": 12
    },
    {
     "cell_type": "code",
     "collapsed": false,
     "input": "tab = '{:^15}{:^15}{:^15}{:^15}{:^15}'.format('i', 'x', 'f(x)', '|Xi+1-Xi|', 'lambda')\ntab_raw = '{:^15}{:^15f}{:^15f}{:^15f}{:^15f}'\n\n\n@printer\ndef iterate(f, x, lambd, n=10, epsilon=0.0001):\n    \n    data = []\n    \n    for i in range(n):\n        \n        x_last = x\n        x = x - lambd(x) *f(x)\n        data.append([i, x, f(x),  abs(x - x_last), lambd(x)])\n        \n        if abs(x - x_last) < epsilon:\n            break\n    \n    return data",
     "language": "python",
     "metadata": {},
     "outputs": [],
     "prompt_number": 13
    },
    {
     "cell_type": "code",
     "collapsed": false,
     "input": "l = lambda x : 1/df(x)\niterate(f, 4, l)",
     "language": "python",
     "metadata": {},
     "outputs": [
      {
       "output_type": "stream",
       "stream": "stdout",
       "text": "       i              x            f(x)         |Xi+1-Xi|       lambda     \n       0          3.696785       0.024217       0.303215       0.352615    \n       1          3.688246       0.000021       0.008539       0.353239    \n       2          3.688238       0.000000       0.000008       0.353239    \n\n f(x)= 1.67634794934e-11 \n\n x =  3.68823824652\n"
      }
     ],
     "prompt_number": 14
    },
    {
     "cell_type": "heading",
     "level": 1,
     "metadata": {},
     "source": "\u0417\u0430\u0434\u0430\u0447\u0430 3"
    },
    {
     "cell_type": "markdown",
     "metadata": {},
     "source": "\u0412\u0430\u0440\u0438\u0430\u043d\u0442 13\n\n\n`2x\u00b3 + 9x\u00b2 - 4 = 0`"
    },
    {
     "cell_type": "code",
     "collapsed": false,
     "input": "from numpy import *\nimport matplotlib.pyplot as plt\n%matplotlib inline",
     "language": "python",
     "metadata": {},
     "outputs": [],
     "prompt_number": 15
    },
    {
     "cell_type": "code",
     "collapsed": false,
     "input": "f = lambda x : 2 * x ** 3 + 9 * x  ** 2 - 4\ndf = lambda x : 18 * x + 6 * x ** 2\nddf = lambda x : 12 * x + 18\n\nx = linspace(-10,10,100)\n\nplt.figure(figsize=(7,7))\nplt.grid(True)\nplt.plot (x, f(x))\nplt.plot (x, zeros(x.size))\n",
     "language": "python",
     "metadata": {},
     "outputs": [
      {
       "metadata": {},
       "output_type": "pyout",
       "prompt_number": 16,
       "text": "[<matplotlib.lines.Line2D at 0x7f8f0fc6f518>]"
      },
      {
       "metadata": {},
       "output_type": "display_data",
       "png": "[encoded data removed]",
       "text": "<matplotlib.figure.Figure at 0x7f8f0fd555f8>"
      }
     ],
     "prompt_number": 16
    },
    {
     "cell_type": "code",
     "collapsed": false,
     "input": "def printer(func):\n    def wrapper(a, b, f, *args):\n        print(tab)\n        data = func(a, b, f, *args)\n        for i in data:\n            print(tab_raw.format(*i))\n        print('\\n', 'f(x)=', i[-2], '\\n\\n', 'x = ', i[1])\n\n    return wrapper",
     "language": "python",
     "metadata": {},
     "outputs": [],
     "prompt_number": 17
    },
    {
     "cell_type": "code",
     "collapsed": false,
     "input": "tab = '{:^15}{:^15}{:^15}{:^15}{:^15}{:^15}'.format('i', 'x', 'a', 'b', 'f(x)', '|a-b|')\ntab_raw = '{:^15}{:^15f}{:^15f}{:^15f}{:^15f}{:^15f}'\n\n@printer\ndef proportional(a, b, f, n=100, epsilon=0.0001):\n    data = []\n    \n    for i in range(n):\n        \n        x = (a+b) / 2\n        \n        if f(a) * f(x)<0:\n            b = x\n        elif f(b) * f(x)<0:\n            a = x\n        \n        data.append([i, x, a , b, f(x), abs(a-b)])\n        \n        if abs(a-b) < 2 *epsilon:\n            break\n\n    return data",
     "language": "python",
     "metadata": {},
     "outputs": [],
     "prompt_number": 18
    },
    {
     "cell_type": "code",
     "collapsed": false,
     "input": "proportional(0,1, f)",
     "language": "python",
     "metadata": {},
     "outputs": [
      {
       "output_type": "stream",
       "stream": "stdout",
       "text": "       i              x              a              b            f(x)           |a-b|     \n       0          0.500000       0.500000       1.000000       -1.500000      0.500000    \n       1          0.750000       0.500000       0.750000       1.906250       0.250000    \n       2          0.625000       0.500000       0.625000       0.003906       0.125000    \n       3          0.562500       0.562500       0.625000       -0.796387      0.062500    \n       4          0.593750       0.593750       0.625000       -0.408508      0.031250    \n       5          0.609375       0.609375       0.625000       -0.205391      0.015625    \n       6          0.617188       0.617188       0.625000       -0.101518      0.007812    \n       7          0.621094       0.621094       0.625000       -0.049000      0.003906    \n       8          0.623047       0.623047       0.625000       -0.022595      0.001953    \n       9          0.624023       0.624023       0.625000       -0.009357      0.000977    \n      10          0.624512       0.624512       0.625000       -0.002728      0.000488    \n      11          0.624756       0.624512       0.624756       0.000588       0.000244    \n      12          0.624634       0.624634       0.624756       -0.001070      0.000122    \n\n f(x)= -0.0010702201216190588 \n\n x =  0.6246337890625\n"
      }
     ],
     "prompt_number": 19
    },
    {
     "cell_type": "code",
     "collapsed": false,
     "input": "tab = '{:^15}{:^15}{:^15}{:^15}'.format('i', 'x', 'f(x)', '|Xn-Xn-1|')\ntab_raw = '{:^15}{:^15f}{:^15f}{:^15f}'\n\n@printer\ndef bisection(a, b, f, n=100, epsilon=0.0001):\n    data = []\n\n    x =  a - f(a) / ( f(b) - f(a) ) * (b - a)\n\n    for i in range(n):\n\n        x_prev = x\n        x = x - f(x) / ( f(b) - f(x) ) *(b - x)\n        \n        data.append([i, x, f(x), abs(x_prev - x)])\n    \n        if abs(x_prev - x) < epsilon:\n            break\n\n    return data",
     "language": "python",
     "metadata": {},
     "outputs": [],
     "prompt_number": 20
    },
    {
     "cell_type": "code",
     "collapsed": false,
     "input": "bisection(0,1, f)",
     "language": "python",
     "metadata": {},
     "outputs": [
      {
       "output_type": "stream",
       "stream": "stdout",
       "text": "       i              x            f(x)         |Xn-Xn-1|   \n       0          0.541419       -1.044378      0.177782    \n       1          0.600955       -0.315615      0.059536    \n       2          0.618171       -0.088337      0.017216    \n       3          0.622929       -0.024191      0.004758    \n       4          0.624228       -0.006585      0.001299    \n       5          0.624581       -0.001790      0.000353    \n       6          0.624677       -0.000486      0.000096    \n\n f(x)= -0.0004861186183298116 \n\n x =  0.6246767852494765\n"
      }
     ],
     "prompt_number": 21
    },
    {
     "cell_type": "code",
     "collapsed": false,
     "input": "tab = '{:^15}{:^15}{:^15}{:^15}{:^15}{:^15}{:^15}{:^15}'.format('i', 'x', 'a', 'b', '|b - a|', 'f(a)', 'f(b)', 'df(b)', 'f(b)/df(b)')\ntab_raw = '{:^15}{:^15f}{:^15f}{:^15f}{:^15f}{:^15f}{:^15f}{:^15f}'\n\ndef combined(a,b):\n    \n    if a * ddf(a) <= 0:\n        a_next = a - f(a) * ( (a - b) / ( f(a) - f(b) ) )\n    else:\n        a_next = a - f(a) / df(a) # a(n+1)\n    if b * ddf(b) <= 0:\n        b_next = b - f(b) * ( (b - a) / ( f(b) - f(a) ) )\n    else:\n        b_next = b - f(b) / df(b) # b(n+1)\n    \n    return [a_next, b_next]\n    \n\n@printer\ndef combined_iter(a, b, f, ddf, n=100, epsilon=0.0001):\n    \n    if f(a) * f(b) > 0: raise Exception('a or b is incorrect') \n    \n    data = []\n    \n    vals = combined(a, b)\n    \n    for i in range(n):\n        \n        vals = combined(vals[0], vals[1])\n        a = vals[0]\n        b = vals[1]\n        \n        x = (a + b) / 2\n        \n        data.append([i, x , a, b, abs(a - b), f(a), f(b), df(b), f(b) / df(b)])\n        \n        if abs(a - b) < 2 * epsilon:\n            break\n\n    return data",
     "language": "python",
     "metadata": {},
     "outputs": [],
     "prompt_number": 22
    },
    {
     "cell_type": "code",
     "collapsed": false,
     "input": "combined_iter(0, 1, f, ddf)",
     "language": "python",
     "metadata": {},
     "outputs": [
      {
       "output_type": "stream",
       "stream": "stdout",
       "text": "       i              x              a              b           |b - a|         f(a)           f(b)           df(b)     \n       0          0.681966       0.733415       0.630517       0.102898       1.630086       0.079291       13.734616   \n       1          0.629469       0.634194       0.624744       0.009450       0.129971       0.000426       13.587220   \n       2          0.624754       0.624796       0.624713       0.000083       0.001129       0.000000       13.586421   \n\n f(x)= 13.586420957071981 \n\n x =  0.6247541299354126\n"
      }
     ],
     "prompt_number": 23
    }
   ],
   "metadata": {}
  }
 ]
}