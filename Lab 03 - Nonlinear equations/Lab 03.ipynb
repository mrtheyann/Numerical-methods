{
 "metadata": {
  "name": "Lab 03"
 },
 "nbformat": 3,
 "nbformat_minor": 0,
 "worksheets": [
  {
   "cells": [
    {
     "cell_type": "markdown",
     "metadata": {},
     "source": "# \u0417\u0430\u0434\u0430\u0447\u0430 1 "
    },
    {
     "cell_type": "markdown",
     "metadata": {},
     "source": "\u0412\u0430\u0440\u0438\u0430\u043d\u0442 13\n\n`x * lg(x) - 1,2 = 0`"
    },
    {
     "cell_type": "code",
     "collapsed": false,
     "input": "from numpy import *\nimport matplotlib.pyplot as plt\n%matplotlib inline",
     "language": "python",
     "metadata": {},
     "outputs": [],
     "prompt_number": 1
    },
    {
     "cell_type": "code",
     "collapsed": false,
     "input": "f = lambda x: (x * log10(x) - 1.2)\ndf = lambda x: (log(x) + 1)\n\nx=linspace(1, 10, 100)",
     "language": "python",
     "metadata": {},
     "outputs": [],
     "prompt_number": 2
    },
    {
     "cell_type": "code",
     "collapsed": false,
     "input": "plt.figure(figsize=(7,7))\nplt.grid(True)\nplt.plot (x, f(x))\nplt.plot (x, zeros(x.size))",
     "language": "python",
     "metadata": {},
     "outputs": [
      {
       "metadata": {},
       "output_type": "pyout",
       "prompt_number": 3,
       "text": "[<matplotlib.lines.Line2D at 0x7f95d0fae978>]"
      },
      {
       "metadata": {},
       "output_type": "display_data",
       "png": "[encoded data removed]",
       "text": "<matplotlib.figure.Figure at 0x7f95d0e64940>"
      }
     ],
     "prompt_number": 3
    },
    {
     "cell_type": "code",
     "collapsed": false,
     "input": "def newton(f, x, n=10, eps=0.0001):\n    #x = x0\n    print('{:^15}{:^15}{:^15}{:^15}{:^15}'.format('i', 'x', 'f(x)', 'df(x)', 'f(x) / df(x)'))\n    for i in range(n):\n        print('{:^15}{:^15f}{:^15f}{:^15f}{:^15f}'.format(i, x, f(x), df(x), f(x) / df(x)))\n        x_last = x\n        x = x - f(x) / df(x)\n        if abs(x - x_last) < eps:\n            break\n\n    print('f(x)=', f(x))\n    return x",
     "language": "python",
     "metadata": {},
     "outputs": [],
     "prompt_number": 4
    },
    {
     "cell_type": "code",
     "collapsed": false,
     "input": "newton(f, 1)",
     "language": "python",
     "metadata": {},
     "outputs": [
      {
       "output_type": "stream",
       "stream": "stdout",
       "text": "       i              x            f(x)           df(x)      f(x) / df(x)  \n       0          1.000000       -1.200000      1.000000       -1.200000   \n       1          2.200000       -0.446670      1.788457       -0.249752   \n       2          2.449752       -0.246748      1.895987       -0.130142   \n       3          2.579894       -0.138111      1.947748       -0.070908   \n       4          2.650802       -0.077711      1.974862       -0.039350   \n       5          2.690152       -0.043835      1.989598       -0.022032   \n       6          2.712184       -0.024759      1.997754       -0.012393   \n       7          2.724577       -0.013994      2.002313       -0.006989   \n       8          2.731566       -0.007913      2.004875       -0.003947   \n       9          2.735513       -0.004475      2.006319       -0.002230   \nf(x)= -0.00253109412353\n"
      },
      {
       "metadata": {},
       "output_type": "pyout",
       "prompt_number": 5,
       "text": "2.7377431899719382"
      }
     ],
     "prompt_number": 5
    },
    {
     "cell_type": "code",
     "collapsed": false,
     "input": "newton(f,2)",
     "language": "python",
     "metadata": {},
     "outputs": [
      {
       "output_type": "stream",
       "stream": "stdout",
       "text": "       i              x            f(x)           df(x)      f(x) / df(x)  \n       0          2.000000       -0.597940      1.693147       -0.353153   \n       1          2.353153       -0.325450      1.855756       -0.175373   \n       2          2.528526       -0.181339      1.927637       -0.094073   \n       3          2.622600       -0.101834      1.964166       -0.051846   \n       4          2.674445       -0.057387      1.983742       -0.028929   \n       5          2.703374       -0.032396      1.994501       -0.016243   \n       6          2.719617       -0.018306      2.000491       -0.009151   \n       7          2.728767       -0.010349      2.003850       -0.005165   \n       8          2.733932       -0.005852      2.005741       -0.002918   \n       9          2.736850       -0.003310      2.006807       -0.001649   \nf(x)= -0.00187227537295\n"
      },
      {
       "metadata": {},
       "output_type": "pyout",
       "prompt_number": 6,
       "text": "2.7384989352225215"
      }
     ],
     "prompt_number": 6
    },
    {
     "cell_type": "code",
     "collapsed": false,
     "input": "newton(f,5)",
     "language": "python",
     "metadata": {},
     "outputs": [
      {
       "output_type": "stream",
       "stream": "stdout",
       "text": "       i              x            f(x)           df(x)      f(x) / df(x)  \n       0          5.000000       2.294850       2.609438       0.879442    \n       1          4.120558       1.333962       2.415989       0.552139    \n       2          3.568419       0.771465       2.272123       0.339535    \n       3          3.228884       0.443671       2.172136       0.204256    \n       4          3.024628       0.253854       2.106788       0.120493    \n       5          2.904135       0.144663       2.066135       0.070016    \n       6          2.834118       0.082206       2.041731       0.040263    \n       7          2.793855       0.046629       2.027423       0.022999    \n       8          2.770856       0.026420       2.019156       0.013085    \n       9          2.757772       0.014959       2.014423       0.007426    \nf(x)= 0.00846684962157\n"
      },
      {
       "metadata": {},
       "output_type": "pyout",
       "prompt_number": 7,
       "text": "2.7503456075606003"
      }
     ],
     "prompt_number": 7
    },
    {
     "cell_type": "code",
     "collapsed": false,
     "input": "newton(f,10)",
     "language": "python",
     "metadata": {},
     "outputs": [
      {
       "output_type": "stream",
       "stream": "stdout",
       "text": "       i              x            f(x)           df(x)      f(x) / df(x)  \n       0          10.000000      8.800000       3.302585       2.664579    \n       1          7.335421       5.148257       2.992715       1.720263    \n       2          5.615158       3.007785       2.725470       1.103584    \n       3          4.511573       1.752049       2.506646       0.698961    \n       4          3.812612       1.015976       2.338314       0.434491    \n       5          3.378121       0.585929       2.217320       0.264251    \n       6          3.113870       0.336074       2.135866       0.157348    \n       7          2.956522       0.191875       2.084014       0.092070    \n       8          2.864452       0.109174       2.052377       0.053194    \n       9          2.811259       0.061976       2.033632       0.030476    \nf(x)= 0.0351322548408\n"
      },
      {
       "metadata": {},
       "output_type": "pyout",
       "prompt_number": 8,
       "text": "2.7807829256083489"
      }
     ],
     "prompt_number": 8
    },
    {
     "cell_type": "heading",
     "level": 1,
     "metadata": {},
     "source": "\u0417\u0430\u0434\u0430\u0447\u0430 2"
    },
    {
     "cell_type": "markdown",
     "metadata": {},
     "source": "\u0412\u0430\u0440\u0438\u0430\u043d\u0442 13\n\n`5 * x - 8 * ln(x) = 8`"
    },
    {
     "cell_type": "code",
     "collapsed": false,
     "input": "from numpy import *\nimport matplotlib.pyplot as plt\n%matplotlib inline",
     "language": "python",
     "metadata": {},
     "outputs": [],
     "prompt_number": 9
    },
    {
     "cell_type": "code",
     "collapsed": false,
     "input": "f = lambda x: (5 * x - 8 * log(x) - 8)\ndf = lambda x: (5 - 8 / x)\n\nx = linspace(1, 10, 100)\n\nplt.figure(figsize=(7,7))\nplt.grid(True)\nplt.plot (x, f(x))\nplt.plot (x, zeros(x.size))",
     "language": "python",
     "metadata": {},
     "outputs": [
      {
       "metadata": {},
       "output_type": "pyout",
       "prompt_number": 10,
       "text": "[<matplotlib.lines.Line2D at 0x7f95d1217fd0>]"
      },
      {
       "metadata": {},
       "output_type": "display_data",
       "png": "[encoded data removed]",
       "text": "<matplotlib.figure.Figure at 0x7f95d19a3cf8>"
      }
     ],
     "prompt_number": 10
    },
    {
     "cell_type": "code",
     "collapsed": false,
     "input": "def iterate(f, x, lambd, n=10, epsilon=0.0001):\n    print('{:^15}{:^15}{:^15}{:^15}{:^15}'.format('i', 'x', 'f(x)', '|Xi+1-Xi|', 'lambda'))\n    for i in range(n):\n        x_last = x\n        x = x - lambd(x) *f(x)\n        print('{:^15}{:^15f}{:^15f}{:^15f}{:^15f}'.format(i, x, f(x),  abs(x - x_last), lambd(x)))\n        if abs(x - x_last) < epsilon:\n            break\n    print('f(x)=', f(x))\n    return x",
     "language": "python",
     "metadata": {},
     "outputs": [],
     "prompt_number": 11
    },
    {
     "cell_type": "code",
     "collapsed": false,
     "input": "l = lambda x : 1/df(x)\niterate(f, 5, l)",
     "language": "python",
     "metadata": {},
     "outputs": [
      {
       "output_type": "stream",
       "stream": "stdout",
       "text": "       i              x            f(x)         |Xi+1-Xi|       lambda     \n       0          3.786913       0.282155       1.213087       0.346325    \n       1          3.689195       0.002710       0.097717       0.353169    \n       2          3.688238       0.000000       0.000957       0.353239    \n       3          3.688238       0.000000       0.000000       0.353239    \nf(x)= 1.7763568394e-15\n"
      },
      {
       "metadata": {},
       "output_type": "pyout",
       "prompt_number": 12,
       "text": "3.688238246517753"
      }
     ],
     "prompt_number": 12
    },
    {
     "cell_type": "heading",
     "level": 1,
     "metadata": {},
     "source": "\u0417\u0430\u0434\u0430\u0447\u0430 3"
    },
    {
     "cell_type": "markdown",
     "metadata": {},
     "source": "\u0412\u0430\u0440\u0438\u0430\u043d\u0442 13\n\n\n`2x\u00b3 + 9x\u00b2 - 4 = 0`"
    },
    {
     "cell_type": "code",
     "collapsed": false,
     "input": "from numpy import *\nimport matplotlib.pyplot as plt\n%matplotlib inline",
     "language": "python",
     "metadata": {},
     "outputs": [],
     "prompt_number": 13
    },
    {
     "cell_type": "code",
     "collapsed": false,
     "input": "f = lambda x : 2 * x ** 3 + 9 * x  ** 2 - 4\ndf = lambda x : 18 * x + 6 * x ** 2",
     "language": "python",
     "metadata": {},
     "outputs": [],
     "prompt_number": 15
    },
    {
     "cell_type": "code",
     "collapsed": false,
     "input": "",
     "language": "python",
     "metadata": {},
     "outputs": []
    }
   ],
   "metadata": {}
  }
 ]
}